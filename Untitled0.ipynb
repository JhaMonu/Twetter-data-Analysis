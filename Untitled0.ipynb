{
  "cells": [
    {
      "cell_type": "code",
      "execution_count": null,
      "metadata": {
        "colab": {
          "base_uri": "https://localhost:8080/"
        },
        "id": "7njtXJQ-nbbX",
        "outputId": "4b69d633-b5bf-4126-ed74-dd59f60aed45"
      },
      "outputs": [
        {
          "output_type": "stream",
          "name": "stderr",
          "text": [
            "[nltk_data] Downloading package stopwords to /root/nltk_data...\n",
            "[nltk_data]   Package stopwords is already up-to-date!\n"
          ]
        },
        {
          "output_type": "execute_result",
          "data": {
            "text/plain": [
              "True"
            ]
          },
          "metadata": {},
          "execution_count": 65
        }
      ],
      "source": [
        "import pandas as pd\n",
        "import re\n",
        "from multiprocessing import Pool\n",
        "import numpy as np\n",
        "import nltk\n",
        "from nltk.corpus import stopwords\n",
        "from nltk.stem.porter import PorterStemmer\n",
        "from sklearn.linear_model import LogisticRegression\n",
        "from sklearn.metrics import accuracy_score\n",
        "from sklearn.model_selection import train_test_split\n",
        "nltk.download('stopwords')\n",
        "\n"
      ]
    },
    {
      "cell_type": "markdown",
      "metadata": {
        "id": "nf67A7YYz9mT"
      },
      "source": [
        "Read the CSV file into a pandas DataFrame"
      ]
    },
    {
      "cell_type": "code",
      "execution_count": null,
      "metadata": {
        "id": "hYtBaAGpz-5z"
      },
      "outputs": [],
      "source": [
        "twitter_data = pd.read_csv(\"new_csv_data_twitter.csv\", encoding='ISO-8859-1')\n",
        "df = pd.DataFrame(twitter_data)"
      ]
    },
    {
      "cell_type": "markdown",
      "metadata": {
        "id": "BBUYrACS0Xmv"
      },
      "source": [
        "Assign column names to the DataFrame"
      ]
    },
    {
      "cell_type": "code",
      "execution_count": null,
      "metadata": {
        "id": "QupvgRxC0bfJ"
      },
      "outputs": [],
      "source": [
        "column_names = ['target', 'id', 'date', 'flag', 'user', 'text']\n",
        "twitter_data.columns = column_names"
      ]
    },
    {
      "cell_type": "markdown",
      "metadata": {
        "id": "HpU8bLnX0gsD"
      },
      "source": [
        "Check the number of rows and columns"
      ]
    },
    {
      "cell_type": "code",
      "execution_count": null,
      "metadata": {
        "colab": {
          "base_uri": "https://localhost:8080/"
        },
        "id": "XCDFvVZU0mqt",
        "outputId": "3d094f29-ed64-4430-cad0-298622584288"
      },
      "outputs": [
        {
          "output_type": "stream",
          "name": "stdout",
          "text": [
            "(185164, 6)\n"
          ]
        }
      ],
      "source": [
        "print(twitter_data.shape)"
      ]
    },
    {
      "cell_type": "markdown",
      "metadata": {
        "id": "-RLux3MM0rHd"
      },
      "source": [
        "Print the first 5 rows of the data"
      ]
    },
    {
      "cell_type": "code",
      "execution_count": null,
      "metadata": {
        "colab": {
          "base_uri": "https://localhost:8080/"
        },
        "id": "EJp3K8ul0uXV",
        "outputId": "540d9938-ae0f-452b-b627-9daa6f723887"
      },
      "outputs": [
        {
          "output_type": "stream",
          "name": "stdout",
          "text": [
            "   target          id                          date      flag  \\\n",
            "0       0  2256840565  Sat Jun 20 13:23:13 PDT 2009  NO_QUERY   \n",
            "1       0  2256840833  Sat Jun 20 13:23:14 PDT 2009  NO_QUERY   \n",
            "2       0  2256840932  Sat Jun 20 13:23:15 PDT 2009  NO_QUERY   \n",
            "3       0  2256841034  Sat Jun 20 13:23:15 PDT 2009  NO_QUERY   \n",
            "4       0  2256841454  Sat Jun 20 13:23:18 PDT 2009  NO_QUERY   \n",
            "\n",
            "              user                                               text  \n",
            "0       bethdonald  @SummerTheKid I just wrote a massive reply on ...  \n",
            "1  LicelleVicencio  Had to leave. It was pouring.  i took pictures...  \n",
            "2  stevenisHAUNTED  #trackle I could NOT find any AT&amp;T store o...  \n",
            "3           bradlc               I wish that I could dance like Sree   \n",
            "4  ethanol_emillee  so my boyfriend is gone to church camp and i c...  \n"
          ]
        }
      ],
      "source": [
        "print(twitter_data.head())"
      ]
    },
    {
      "cell_type": "markdown",
      "metadata": {
        "id": "tDpFkduq02bG"
      },
      "source": [
        "Find all missing values in the dataset"
      ]
    },
    {
      "cell_type": "code",
      "execution_count": null,
      "metadata": {
        "colab": {
          "base_uri": "https://localhost:8080/"
        },
        "id": "-VDT0HDS06aE",
        "outputId": "952f45f8-6f6c-4849-d937-5587f5fb82dc"
      },
      "outputs": [
        {
          "output_type": "stream",
          "name": "stdout",
          "text": [
            "target    0\n",
            "id        0\n",
            "date      0\n",
            "flag      0\n",
            "user      0\n",
            "text      0\n",
            "dtype: int64\n"
          ]
        }
      ],
      "source": [
        "print(twitter_data.isnull().sum())"
      ]
    },
    {
      "cell_type": "markdown",
      "metadata": {
        "id": "5kai5eMs15Br"
      },
      "source": [
        "Convert the target value 4 to 1 (positive sentiment)\n",
        "\n",
        "* Check the distribution of the target column\n",
        "* type = 0: negative sentiment\n",
        "* type = 1: positive sentiment\n",
        "\n",
        "\n",
        "\n"
      ]
    },
    {
      "cell_type": "code",
      "execution_count": null,
      "metadata": {
        "colab": {
          "base_uri": "https://localhost:8080/"
        },
        "id": "0qXQbGtR16Sv",
        "outputId": "b61308b6-afab-480d-ac9b-39f98e4bb3c4"
      },
      "outputs": [
        {
          "output_type": "stream",
          "name": "stdout",
          "text": [
            "None\n",
            "target\n",
            "0    93082\n",
            "1    92082\n",
            "Name: count, dtype: int64\n"
          ]
        }
      ],
      "source": [
        "print(twitter_data.replace({'target': {4: 1}}, inplace=True))\n",
        "print(twitter_data['target'].value_counts())"
      ]
    },
    {
      "cell_type": "markdown",
      "metadata": {
        "id": "lYucPzpo2eSZ"
      },
      "source": [
        "Initialize the PorterStemmer"
      ]
    },
    {
      "cell_type": "code",
      "execution_count": null,
      "metadata": {
        "id": "3ByuXD_x2ikw"
      },
      "outputs": [],
      "source": [
        "port_stem = PorterStemmer()"
      ]
    },
    {
      "cell_type": "markdown",
      "metadata": {
        "id": "YOpQqZQx2neB"
      },
      "source": [
        "Function to clean and stem the text data\n",
        "\n",
        "*   Remove non-alphabetic characters\n",
        "*   Convert to lowercase\n",
        "*   Split into words\n",
        "*   Remove stopwords and stem the words\n",
        "*   Join the words back into a single string\n",
        "\n",
        "\n",
        "\n"
      ]
    },
    {
      "cell_type": "code",
      "execution_count": null,
      "metadata": {
        "id": "Z3kKEWt42rU_"
      },
      "outputs": [],
      "source": [
        "def stemmed(content):\n",
        "    # Remove non-alphabetic characters\n",
        "    stemmed_content = re.sub('[^a-zA-Z]', ' ', content)\n",
        "    # Convert to lowercase\n",
        "    stemmed_content = stemmed_content.lower()\n",
        "    # Split into words\n",
        "    stemmed_content = stemmed_content.split()\n",
        "    # Remove stopwords and stem the words\n",
        "    stemmed_content = [port_stem.stem(word) for word in stemmed_content if not word in stopwords.words('english')]\n",
        "    # Join the words back into a single string\n",
        "    stemmed_content = ' '.join(stemmed_content)\n",
        "    return stemmed_content"
      ]
    },
    {
      "cell_type": "markdown",
      "metadata": {
        "id": "VQssFHb4Mgd8"
      },
      "source": [
        "Apply the stemming function to the test column"
      ]
    },
    {
      "cell_type": "code",
      "execution_count": null,
      "metadata": {
        "id": "Mw_HNGUWMHFl"
      },
      "outputs": [],
      "source": [
        "twitter_data['stemmed_content'] = twitter_data['text'].apply(stemmed)"
      ]
    },
    {
      "cell_type": "markdown",
      "metadata": {
        "id": "IM8DxJZKMsrh"
      },
      "source": []
    },
    {
      "cell_type": "markdown",
      "metadata": {
        "id": "IzmFiaURB5yB"
      },
      "source": [
        "Print the first 5 rows to check the new 'stemmed_content' column\n"
      ]
    },
    {
      "cell_type": "code",
      "execution_count": null,
      "metadata": {
        "colab": {
          "base_uri": "https://localhost:8080/"
        },
        "id": "FSbhmTFJCDTZ",
        "outputId": "97b83b0e-4ffc-46ee-abe8-fd843c32135c"
      },
      "outputs": [
        {
          "output_type": "stream",
          "name": "stdout",
          "text": [
            "   target          id                          date      flag  \\\n",
            "0       0  2256840565  Sat Jun 20 13:23:13 PDT 2009  NO_QUERY   \n",
            "1       0  2256840833  Sat Jun 20 13:23:14 PDT 2009  NO_QUERY   \n",
            "2       0  2256840932  Sat Jun 20 13:23:15 PDT 2009  NO_QUERY   \n",
            "3       0  2256841034  Sat Jun 20 13:23:15 PDT 2009  NO_QUERY   \n",
            "4       0  2256841454  Sat Jun 20 13:23:18 PDT 2009  NO_QUERY   \n",
            "\n",
            "              user                                               text  \\\n",
            "0       bethdonald  @SummerTheKid I just wrote a massive reply on ...   \n",
            "1  LicelleVicencio  Had to leave. It was pouring.  i took pictures...   \n",
            "2  stevenisHAUNTED  #trackle I could NOT find any AT&amp;T store o...   \n",
            "3           bradlc               I wish that I could dance like Sree    \n",
            "4  ethanol_emillee  so my boyfriend is gone to church camp and i c...   \n",
            "\n",
            "                                     stemmed_content  \n",
            "0  summerthekid wrote massiv repli fb lost write ...  \n",
            "1             leav pour took pictur wash away though  \n",
            "2  trackl could find amp store best buy iphon ava...  \n",
            "3                          wish could danc like sree  \n",
            "4  boyfriend gone church camp cant talk week also...  \n"
          ]
        }
      ],
      "source": [
        "print(twitter_data.head())"
      ]
    },
    {
      "cell_type": "markdown",
      "source": [
        "Separate the data and labels"
      ],
      "metadata": {
        "id": "6aEJPFlLHkJF"
      }
    },
    {
      "cell_type": "code",
      "source": [
        "X = twitter_data['stemmed_content'].values\n",
        "Y = twitter_data['target'].values"
      ],
      "metadata": {
        "id": "XEj93zZ_QPiu"
      },
      "execution_count": null,
      "outputs": []
    },
    {
      "cell_type": "code",
      "source": [
        "print(X)\n",
        "print(Y)"
      ],
      "metadata": {
        "colab": {
          "base_uri": "https://localhost:8080/"
        },
        "id": "6-JqLk3WQpef",
        "outputId": "68d0237a-078a-4e53-9c8f-f1eb75dcca2f"
      },
      "execution_count": null,
      "outputs": [
        {
          "output_type": "stream",
          "name": "stdout",
          "text": [
            "['summerthekid wrote massiv repli fb lost write haha'\n",
            " 'leav pour took pictur wash away though'\n",
            " 'trackl could find amp store best buy iphon avail within mile radiu' ...\n",
            " 'shortie'\n",
            " 'final pick handwrap struggl wrap stronger hand defo got lot sooner though'\n",
            " 'richardbsmith glad like quot integr one product moment']\n",
            "[0 0 0 ... 1 1 1]\n"
          ]
        }
      ]
    },
    {
      "cell_type": "markdown",
      "source": [
        "spliting the data to traninig data and test data:\n",
        "\n",
        "\n",
        "\n",
        "*   x  twitte\n",
        "* y tarin data\n",
        "\n",
        "* x_test & y_test is target data and level data\n",
        "* x_train & y_train is training data\n",
        "   \n",
        "\n"
      ],
      "metadata": {
        "id": "rspigRDrHrvr"
      }
    },
    {
      "cell_type": "code",
      "source": [
        "x_train, x_test, y_train, y_test = train_test_split(X, Y, test_size=0.2, stratify=Y, random_state=2)"
      ],
      "metadata": {
        "id": "0fKnAa3WQzSK"
      },
      "execution_count": null,
      "outputs": []
    },
    {
      "cell_type": "markdown",
      "metadata": {
        "id": "-qstaDcEKy0r"
      },
      "source": []
    },
    {
      "cell_type": "markdown",
      "source": [
        "Now we will converrting acutal data into numerical data:"
      ],
      "metadata": {
        "id": "FGoE-lF-H9yI"
      }
    },
    {
      "cell_type": "code",
      "source": [
        "from sklearn.feature_extraction.text import TfidfVectorizer\n",
        "change_numerical_data = TfidfVectorizer()\n",
        "\n",
        "x_train = change_numerical_data.fit_transform(x_train)\n",
        "x_test = change_numerical_data.transform(x_test)\n",
        "\n",
        "print(x_train)\n",
        "print(x_test)"
      ],
      "metadata": {
        "colab": {
          "base_uri": "https://localhost:8080/"
        },
        "id": "U4SVYT6pQ9W-",
        "outputId": "2a20b495-379c-44c5-9332-d8e7d50c3512"
      },
      "execution_count": null,
      "outputs": [
        {
          "output_type": "stream",
          "name": "stdout",
          "text": [
            "  (0, 33324)\t0.2701683415401969\n",
            "  (0, 89594)\t0.16533477075769848\n",
            "  (0, 50993)\t0.2793447454683294\n",
            "  (0, 81295)\t0.1922355675889476\n",
            "  (0, 3162)\t0.18074020205973373\n",
            "  (0, 28620)\t0.34142769366167386\n",
            "  (0, 83041)\t0.35076663559429927\n",
            "  (0, 75734)\t0.30021555294919616\n",
            "  (0, 33229)\t0.13721809721003084\n",
            "  (0, 57314)\t0.43535709503579795\n",
            "  (0, 7971)\t0.46250878113015226\n",
            "  (1, 49484)\t0.3163877498774957\n",
            "  (1, 53453)\t0.3123017476727901\n",
            "  (1, 17507)\t0.32287106439484414\n",
            "  (1, 87398)\t0.26530503490340707\n",
            "  (1, 93604)\t0.2556866586969206\n",
            "  (1, 73801)\t0.29497009612048736\n",
            "  (1, 13291)\t0.4463056495581065\n",
            "  (1, 32639)\t0.45362474022688853\n",
            "  (1, 65648)\t0.26530503490340707\n",
            "  (2, 68895)\t0.26140904410341204\n",
            "  (2, 37962)\t0.24578569269594838\n",
            "  (2, 17170)\t0.12936324838271174\n",
            "  (2, 62623)\t0.3616217757386197\n",
            "  (2, 38256)\t0.1217557878311191\n",
            "  :\t:\n",
            "  (148128, 80731)\t0.2679661535414327\n",
            "  (148128, 89100)\t0.24101366847388295\n",
            "  (148128, 6202)\t0.2387374844462746\n",
            "  (148128, 35045)\t0.19023782209910498\n",
            "  (148128, 4315)\t0.24034205834469663\n",
            "  (148128, 87808)\t0.16524849943888373\n",
            "  (148129, 79595)\t0.5265054317697679\n",
            "  (148129, 90017)\t0.386881913631539\n",
            "  (148129, 6221)\t0.3412440309476642\n",
            "  (148129, 27729)\t0.2978732597404336\n",
            "  (148129, 91887)\t0.22744999360492107\n",
            "  (148129, 65436)\t0.27304848165993195\n",
            "  (148129, 32970)\t0.25954486463168763\n",
            "  (148129, 82528)\t0.2198664494318705\n",
            "  (148129, 8452)\t0.24227095567233503\n",
            "  (148129, 77550)\t0.25932502089734566\n",
            "  (148130, 35702)\t0.5053602983828959\n",
            "  (148130, 95581)\t0.4885822092691966\n",
            "  (148130, 45561)\t0.3316806724475459\n",
            "  (148130, 22338)\t0.2686546020681842\n",
            "  (148130, 91199)\t0.37652347304288847\n",
            "  (148130, 93518)\t0.24493949427712952\n",
            "  (148130, 90393)\t0.21373502753783974\n",
            "  (148130, 95398)\t0.2059961396204153\n",
            "  (148130, 78376)\t0.18392573711196905\n",
            "  (0, 52881)\t0.4186805952944947\n",
            "  (0, 32385)\t0.5050131707865267\n",
            "  (0, 26615)\t0.48503256961458063\n",
            "  (0, 13042)\t0.441044725113329\n",
            "  (0, 8104)\t0.37402033810846524\n",
            "  (1, 91911)\t0.3241820725210092\n",
            "  (1, 90717)\t0.27645041633348755\n",
            "  (1, 89594)\t0.1656245137217487\n",
            "  (1, 59924)\t0.1901935278927299\n",
            "  (1, 52510)\t0.1727576304022249\n",
            "  (1, 51932)\t0.4674300571449518\n",
            "  (1, 49999)\t0.1892372982978474\n",
            "  (1, 43354)\t0.33163943094082965\n",
            "  (1, 33488)\t0.15237673416838318\n",
            "  (1, 31294)\t0.252210795173499\n",
            "  (1, 27505)\t0.2064781557112945\n",
            "  (1, 14001)\t0.2946038788241055\n",
            "  (1, 11763)\t0.3801196399011885\n",
            "  (2, 85276)\t0.37702334138802984\n",
            "  (2, 85235)\t0.6538403683441762\n",
            "  (2, 73730)\t0.38908165685559537\n",
            "  (2, 59924)\t0.26680888417424525\n",
            "  (2, 53040)\t0.22193385069390398\n",
            "  (2, 37848)\t0.2514316465446962\n",
            "  (2, 27582)\t0.308710462129736\n",
            "  :\t:\n",
            "  (37028, 90493)\t0.43814444680354514\n",
            "  (37028, 77578)\t0.2508360270221876\n",
            "  (37028, 76569)\t0.3695738542840053\n",
            "  (37028, 63301)\t0.4638550537679722\n",
            "  (37028, 60792)\t0.23416235210754308\n",
            "  (37028, 58545)\t0.21053370498114996\n",
            "  (37028, 28991)\t0.36225769633845584\n",
            "  (37028, 5393)\t0.33407133191558896\n",
            "  (37029, 87808)\t0.3337853435613736\n",
            "  (37029, 71536)\t0.46721996262605586\n",
            "  (37029, 51928)\t0.5427714626067237\n",
            "  (37029, 30099)\t0.6129371830188478\n",
            "  (37030, 87808)\t0.5948209861268627\n",
            "  (37030, 48468)\t0.6008645382358041\n",
            "  (37030, 33488)\t0.5339941958052921\n",
            "  (37031, 50385)\t0.8528689469974691\n",
            "  (37031, 28919)\t0.52212504177393\n",
            "  (37032, 95707)\t0.2900620438671567\n",
            "  (37032, 95424)\t0.4059268116665502\n",
            "  (37032, 95398)\t0.3130368158681143\n",
            "  (37032, 78333)\t0.49319899068199735\n",
            "  (37032, 51337)\t0.348527678096148\n",
            "  (37032, 33488)\t0.24418121177890145\n",
            "  (37032, 30870)\t0.3223044667664195\n",
            "  (37032, 8452)\t0.3533751065040623\n"
          ]
        }
      ]
    },
    {
      "cell_type": "markdown",
      "source": [
        "Now we will tranining the machine learning model:\n",
        "\n",
        "\n",
        "*   Logistic regression;\n",
        "\n",
        "\n"
      ],
      "metadata": {
        "id": "Ezu-2EguIFHC"
      }
    },
    {
      "cell_type": "code",
      "source": [
        "model = LogisticRegression(max_iter=1000)\n",
        "model.fit(x_train, y_train)"
      ],
      "metadata": {
        "colab": {
          "base_uri": "https://localhost:8080/",
          "height": 74
        },
        "id": "ug3TAEULRW6L",
        "outputId": "9e2f388c-ea57-4339-a40a-432cfc070cc7"
      },
      "execution_count": null,
      "outputs": [
        {
          "output_type": "execute_result",
          "data": {
            "text/plain": [
              "LogisticRegression(max_iter=1000)"
            ],
            "text/html": [
              "<style>#sk-container-id-2 {color: black;background-color: white;}#sk-container-id-2 pre{padding: 0;}#sk-container-id-2 div.sk-toggleable {background-color: white;}#sk-container-id-2 label.sk-toggleable__label {cursor: pointer;display: block;width: 100%;margin-bottom: 0;padding: 0.3em;box-sizing: border-box;text-align: center;}#sk-container-id-2 label.sk-toggleable__label-arrow:before {content: \"▸\";float: left;margin-right: 0.25em;color: #696969;}#sk-container-id-2 label.sk-toggleable__label-arrow:hover:before {color: black;}#sk-container-id-2 div.sk-estimator:hover label.sk-toggleable__label-arrow:before {color: black;}#sk-container-id-2 div.sk-toggleable__content {max-height: 0;max-width: 0;overflow: hidden;text-align: left;background-color: #f0f8ff;}#sk-container-id-2 div.sk-toggleable__content pre {margin: 0.2em;color: black;border-radius: 0.25em;background-color: #f0f8ff;}#sk-container-id-2 input.sk-toggleable__control:checked~div.sk-toggleable__content {max-height: 200px;max-width: 100%;overflow: auto;}#sk-container-id-2 input.sk-toggleable__control:checked~label.sk-toggleable__label-arrow:before {content: \"▾\";}#sk-container-id-2 div.sk-estimator input.sk-toggleable__control:checked~label.sk-toggleable__label {background-color: #d4ebff;}#sk-container-id-2 div.sk-label input.sk-toggleable__control:checked~label.sk-toggleable__label {background-color: #d4ebff;}#sk-container-id-2 input.sk-hidden--visually {border: 0;clip: rect(1px 1px 1px 1px);clip: rect(1px, 1px, 1px, 1px);height: 1px;margin: -1px;overflow: hidden;padding: 0;position: absolute;width: 1px;}#sk-container-id-2 div.sk-estimator {font-family: monospace;background-color: #f0f8ff;border: 1px dotted black;border-radius: 0.25em;box-sizing: border-box;margin-bottom: 0.5em;}#sk-container-id-2 div.sk-estimator:hover {background-color: #d4ebff;}#sk-container-id-2 div.sk-parallel-item::after {content: \"\";width: 100%;border-bottom: 1px solid gray;flex-grow: 1;}#sk-container-id-2 div.sk-label:hover label.sk-toggleable__label {background-color: #d4ebff;}#sk-container-id-2 div.sk-serial::before {content: \"\";position: absolute;border-left: 1px solid gray;box-sizing: border-box;top: 0;bottom: 0;left: 50%;z-index: 0;}#sk-container-id-2 div.sk-serial {display: flex;flex-direction: column;align-items: center;background-color: white;padding-right: 0.2em;padding-left: 0.2em;position: relative;}#sk-container-id-2 div.sk-item {position: relative;z-index: 1;}#sk-container-id-2 div.sk-parallel {display: flex;align-items: stretch;justify-content: center;background-color: white;position: relative;}#sk-container-id-2 div.sk-item::before, #sk-container-id-2 div.sk-parallel-item::before {content: \"\";position: absolute;border-left: 1px solid gray;box-sizing: border-box;top: 0;bottom: 0;left: 50%;z-index: -1;}#sk-container-id-2 div.sk-parallel-item {display: flex;flex-direction: column;z-index: 1;position: relative;background-color: white;}#sk-container-id-2 div.sk-parallel-item:first-child::after {align-self: flex-end;width: 50%;}#sk-container-id-2 div.sk-parallel-item:last-child::after {align-self: flex-start;width: 50%;}#sk-container-id-2 div.sk-parallel-item:only-child::after {width: 0;}#sk-container-id-2 div.sk-dashed-wrapped {border: 1px dashed gray;margin: 0 0.4em 0.5em 0.4em;box-sizing: border-box;padding-bottom: 0.4em;background-color: white;}#sk-container-id-2 div.sk-label label {font-family: monospace;font-weight: bold;display: inline-block;line-height: 1.2em;}#sk-container-id-2 div.sk-label-container {text-align: center;}#sk-container-id-2 div.sk-container {/* jupyter's `normalize.less` sets `[hidden] { display: none; }` but bootstrap.min.css set `[hidden] { display: none !important; }` so we also need the `!important` here to be able to override the default hidden behavior on the sphinx rendered scikit-learn.org. See: https://github.com/scikit-learn/scikit-learn/issues/21755 */display: inline-block !important;position: relative;}#sk-container-id-2 div.sk-text-repr-fallback {display: none;}</style><div id=\"sk-container-id-2\" class=\"sk-top-container\"><div class=\"sk-text-repr-fallback\"><pre>LogisticRegression(max_iter=1000)</pre><b>In a Jupyter environment, please rerun this cell to show the HTML representation or trust the notebook. <br />On GitHub, the HTML representation is unable to render, please try loading this page with nbviewer.org.</b></div><div class=\"sk-container\" hidden><div class=\"sk-item\"><div class=\"sk-estimator sk-toggleable\"><input class=\"sk-toggleable__control sk-hidden--visually\" id=\"sk-estimator-id-2\" type=\"checkbox\" checked><label for=\"sk-estimator-id-2\" class=\"sk-toggleable__label sk-toggleable__label-arrow\">LogisticRegression</label><div class=\"sk-toggleable__content\"><pre>LogisticRegression(max_iter=1000)</pre></div></div></div></div></div>"
            ]
          },
          "metadata": {},
          "execution_count": 80
        }
      ]
    },
    {
      "cell_type": "markdown",
      "source": [
        "Model evlution:\n",
        "\n",
        "Accuracy score:\n",
        "\n",
        "Accuray score on the training data:"
      ],
      "metadata": {
        "id": "Ie9sG8g_IYft"
      }
    },
    {
      "cell_type": "code",
      "source": [
        "x_train_pridiction = model.predict(x_train)\n",
        "traninig_data_accuracy = accuracy_score(y_train, x_train_pridiction)"
      ],
      "metadata": {
        "id": "B-v7BAdwSB2r"
      },
      "execution_count": null,
      "outputs": []
    },
    {
      "cell_type": "code",
      "source": [
        "print(\"this is accuracy score by the training data set :\", traninig_data_accuracy)"
      ],
      "metadata": {
        "colab": {
          "base_uri": "https://localhost:8080/"
        },
        "id": "chnvLMkeSK4R",
        "outputId": "65cc45b7-4db5-42c5-b44c-99cfcef8771c"
      },
      "execution_count": null,
      "outputs": [
        {
          "output_type": "stream",
          "name": "stdout",
          "text": [
            "this is accuracy score by the training data set : 0.8346058556277889\n"
          ]
        }
      ]
    },
    {
      "cell_type": "markdown",
      "source": [
        "We will make pie to show the accuracy of tranining data sets"
      ],
      "metadata": {
        "id": "f5cjPBzUHERy"
      }
    },
    {
      "cell_type": "code",
      "source": [
        "import matplotlib.pyplot as plt\n",
        "accuracy = traninig_data_accuracy\n",
        "\n",
        "# Calculate the complement of accuracy\n",
        "complement_accuracy = 1 - accuracy\n",
        "\n",
        "# Labels for the pie chart\n",
        "labels = ['Accuracy', 'Complement']\n",
        "sizes = [accuracy, complement_accuracy]\n",
        "\n",
        "# Colors for the pie chart\n",
        "colors = ['orange', 'green']\n",
        "\n",
        "# Plot the pie chart\n",
        "plt.pie(sizes, labels=labels, colors=colors, autopct='%1.1f%%', startangle=140)\n",
        "\n",
        "# Equal aspect ratio ensures that pie is drawn as a circle\n",
        "plt.axis('equal')\n",
        "\n",
        "# Add title\n",
        "plt.title('Accuracy Pie Chart')\n",
        "\n",
        "# Show plot\n",
        "plt.show()"
      ],
      "metadata": {
        "colab": {
          "base_uri": "https://localhost:8080/",
          "height": 428
        },
        "id": "rdpM6_U2T_-P",
        "outputId": "8c04fe9b-a9c8-4759-f1e8-b0d055629a3e"
      },
      "execution_count": null,
      "outputs": [
        {
          "output_type": "display_data",
          "data": {
            "text/plain": [
              "<Figure size 640x480 with 1 Axes>"
            ],
            "image/png": "[encoded data removed]"
          },
          "metadata": {}
        }
      ]
    },
    {
      "cell_type": "markdown",
      "source": [
        " Accuracy score on the test data:"
      ],
      "metadata": {
        "id": "Hj9cu2ZOItYK"
      }
    },
    {
      "cell_type": "code",
      "source": [
        "x_test_pridiction = model.predict(x_test)\n",
        "test_data_accuracy = accuracy_score(y_train, x_train_pridiction)"
      ],
      "metadata": {
        "id": "Im-SoM-SSv6n"
      },
      "execution_count": null,
      "outputs": []
    },
    {
      "cell_type": "code",
      "source": [
        "print(\"This is accuracy score by the test data set :\", test_data_accuracy)"
      ],
      "metadata": {
        "colab": {
          "base_uri": "https://localhost:8080/"
        },
        "id": "hhzWb3GwS0NH",
        "outputId": "359d0166-8ec1-4726-ef33-4cd57430708a"
      },
      "execution_count": null,
      "outputs": [
        {
          "output_type": "stream",
          "name": "stdout",
          "text": [
            "This is accuracy score by the test data set : 0.8346058556277889\n"
          ]
        }
      ]
    },
    {
      "cell_type": "markdown",
      "source": [
        "We will make pie to show the accuracy of test data sets"
      ],
      "metadata": {
        "id": "DOzYZd4PG1vU"
      }
    },
    {
      "cell_type": "code",
      "source": [
        "accuracy = test_data_accuracy\n",
        "\n",
        "# Calculate the complement of accuracy\n",
        "complement_accuracy = 1 - accuracy\n",
        "\n",
        "# Labels for the pie chart\n",
        "labels = ['Accuracy', 'Complement']\n",
        "sizes = [accuracy, complement_accuracy]\n",
        "\n",
        "# Colors for the pie chart\n",
        "colors = ['lightgreen', 'grey']\n",
        "\n",
        "# Plot the pie chart\n",
        "plt.pie(sizes, labels=labels, colors=colors, autopct='%1.1f%%', startangle=10)\n",
        "\n",
        "# Equal aspect ratio ensures that pie is drawn as a circle\n",
        "plt.axis('equal')\n",
        "\n",
        "# Add title\n",
        "plt.title('Accuracy Pie Chart')\n",
        "\n",
        "# Show plot\n",
        "plt.show()"
      ],
      "metadata": {
        "colab": {
          "base_uri": "https://localhost:8080/",
          "height": 428
        },
        "id": "uAYn3nE6WAKc",
        "outputId": "0e003999-bf26-4429-eb97-025f8cae0d6f"
      },
      "execution_count": null,
      "outputs": [
        {
          "output_type": "display_data",
          "data": {
            "text/plain": [
              "<Figure size 640x480 with 1 Axes>"
            ],
            "image/png": "[encoded data removed]"
          },
          "metadata": {}
        }
      ]
    },
    {
      "cell_type": "markdown",
      "source": [
        "Saveing the training mode for reuse:"
      ],
      "metadata": {
        "id": "I-X60tpqI1K5"
      }
    },
    {
      "cell_type": "code",
      "source": [
        "import pickle\n",
        "\n",
        "filename = 'training_model.pk'\n",
        "pickle.dump(model,open(filename,'wb'))\n"
      ],
      "metadata": {
        "id": "PStZTtp-S4Tp"
      },
      "execution_count": null,
      "outputs": []
    },
    {
      "cell_type": "markdown",
      "source": [
        "Using the save model for feature preduction:"
      ],
      "metadata": {
        "id": "wBd87J-nI7we"
      }
    },
    {
      "cell_type": "code",
      "source": [
        "load_model = pickle.load(open('training_model.pk', 'rb'))\n",
        "\n",
        "X_new = x_test[200]\n",
        "print(y_test[200])"
      ],
      "metadata": {
        "colab": {
          "base_uri": "https://localhost:8080/"
        },
        "id": "hvlLVP5tTAPd",
        "outputId": "2757ac5c-8bb8-4186-c62d-5b02b60851a5"
      },
      "execution_count": null,
      "outputs": [
        {
          "output_type": "stream",
          "name": "stdout",
          "text": [
            "0\n"
          ]
        }
      ]
    },
    {
      "cell_type": "code",
      "source": [
        "prediction = model.predict(X_new)\n",
        "print(prediction)"
      ],
      "metadata": {
        "colab": {
          "base_uri": "https://localhost:8080/"
        },
        "id": "UJSXahuhTbnJ",
        "outputId": "6b383ba6-1458-4136-d1f4-2e6854d6765c"
      },
      "execution_count": null,
      "outputs": [
        {
          "output_type": "stream",
          "name": "stdout",
          "text": [
            "[1]\n"
          ]
        }
      ]
    },
    {
      "cell_type": "code",
      "source": [
        "plt.plot(prediction, marker='s', linestyle='--', color=\"green\")\n",
        "\n",
        "plt.title('Predictive Data Of New Tweet')\n",
        "plt.xlabel('X-axis')\n",
        "plt.ylabel('Y-axis')\n",
        "plt.show()"
      ],
      "metadata": {
        "colab": {
          "base_uri": "https://localhost:8080/",
          "height": 472
        },
        "id": "4uqMhdYAWSE6",
        "outputId": "7ac98b7e-81dd-471e-ff7d-eae7c9fa5956"
      },
      "execution_count": null,
      "outputs": [
        {
          "output_type": "display_data",
          "data": {
            "text/plain": [
              "<Figure size 640x480 with 1 Axes>"
            ],
            "image/png": "[encoded data removed]"
          },
          "metadata": {}
        }
      ]
    },
    {
      "cell_type": "code",
      "source": [
        "if prediction[0] == 0:\n",
        "    print('Negative tweet')\n",
        "\n",
        "else:\n",
        "    print('Positive tweet')"
      ],
      "metadata": {
        "colab": {
          "base_uri": "https://localhost:8080/"
        },
        "id": "NvjuutCiTkUT",
        "outputId": "b6a122c7-086d-4880-f5a8-ea3f4fd9d68d"
      },
      "execution_count": null,
      "outputs": [
        {
          "output_type": "stream",
          "name": "stdout",
          "text": [
            "Positive tweet\n"
          ]
        }
      ]
    }
  ],
  "metadata": {
    "colab": {
      "provenance": []
    },
    "kernelspec": {
      "display_name": "Python 3",
      "name": "python3"
    },
    "language_info": {
      "name": "python"
    }
  },
  "nbformat": 4,
  "nbformat_minor": 0
}